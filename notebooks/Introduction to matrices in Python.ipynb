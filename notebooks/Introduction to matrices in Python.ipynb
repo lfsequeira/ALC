{
 "cells": [
  {
   "cell_type": "markdown",
   "metadata": {},
   "source": [
    "# Introduction to Matrices in Python"
   ]
  },
  {
   "cell_type": "markdown",
   "metadata": {
    "ExecuteTime": {
     "end_time": "2020-07-29T18:25:48.735660Z",
     "start_time": "2020-07-29T18:25:48.733345Z"
    }
   },
   "source": [
    "## Some very basic notions "
   ]
  },
  {
   "cell_type": "markdown",
   "metadata": {},
   "source": [
    "We can think of a *matrix* as a rectangular box full of numbers, like \n",
    "$$ \\begin{bmatrix} 1 & 2 & 3 & 4 \\\\ 5 & 6 & 7 & 8 \\end{bmatrix}$$\n",
    "\n",
    "These numbers are called the entries of the matrix, and can be *real* or *complex* (or many other, but we will focus on those, mostly, on matrices with real entries). \n",
    "\n",
    "As you surely know, the entries of a matrix form *rows* (horizontally) and *columns* (vertically). \n",
    "\n",
    "For example, the matrix above has two rows, and four columns. We usually say this is a 4 by 2 matrix.\n",
    "\n",
    "The set of matrices of real numbers, having $m$ rows and $n$ columns will be denoted by $\\R^{m \\times n}$."
   ]
  },
  {
   "cell_type": "markdown",
   "metadata": {
    "ExecuteTime": {
     "end_time": "2020-07-29T18:38:16.711535Z",
     "start_time": "2020-07-29T18:38:16.709374Z"
    }
   },
   "source": [
    "### Representing matrices in code"
   ]
  },
  {
   "cell_type": "markdown",
   "metadata": {},
   "source": [
    "In Python, there are several different ways of representing matrices. \n",
    "\n",
    "Here we will introduce two very useful packages, $\\texttt{numpy}$ and $\\texttt{sympy}$. They are usually imported into our code like this:"
   ]
  },
  {
   "cell_type": "code",
   "execution_count": 3,
   "metadata": {
    "ExecuteTime": {
     "end_time": "2020-07-29T18:40:16.755823Z",
     "start_time": "2020-07-29T18:40:15.926409Z"
    }
   },
   "outputs": [],
   "source": [
    "import numpy as np\n",
    "import sympy as sp"
   ]
  },
  {
   "cell_type": "markdown",
   "metadata": {},
   "source": [
    "With $\\texttt{numpy}$, we represent matrices with the type $\\texttt{np.array}$. The method "
   ]
  },
  {
   "cell_type": "code",
   "execution_count": 5,
   "metadata": {
    "ExecuteTime": {
     "end_time": "2020-07-29T18:43:38.597710Z",
     "start_time": "2020-07-29T18:43:38.594778Z"
    }
   },
   "outputs": [],
   "source": [
    "A = np.array([[1,2,3,4],[5,6,7,8]])"
   ]
  },
  {
   "cell_type": "code",
   "execution_count": null,
   "metadata": {},
   "outputs": [],
   "source": []
  }
 ],
 "metadata": {
  "kernelspec": {
   "display_name": "Python 3",
   "language": "python",
   "name": "python3"
  },
  "language_info": {
   "codemirror_mode": {
    "name": "ipython",
    "version": 3
   },
   "file_extension": ".py",
   "mimetype": "text/x-python",
   "name": "python",
   "nbconvert_exporter": "python",
   "pygments_lexer": "ipython3",
   "version": "3.7.3"
  },
  "latex_envs": {
   "LaTeX_envs_menu_present": true,
   "autoclose": true,
   "autocomplete": true,
   "bibliofile": "biblio.bib",
   "cite_by": "apalike",
   "current_citInitial": 1,
   "eqLabelWithNumbers": false,
   "eqNumInitial": 1,
   "hotkeys": {
    "equation": "Ctrl-E",
    "itemize": "Ctrl-I"
   },
   "labels_anchors": false,
   "latex_user_defs": false,
   "report_style_numbering": false,
   "user_envs_cfg": false
  },
  "toc": {
   "base_numbering": 1,
   "nav_menu": {},
   "number_sections": true,
   "sideBar": true,
   "skip_h1_title": true,
   "title_cell": "Table of Contents",
   "title_sidebar": "Contents",
   "toc_cell": false,
   "toc_position": {},
   "toc_section_display": true,
   "toc_window_display": false
  }
 },
 "nbformat": 4,
 "nbformat_minor": 4
}
